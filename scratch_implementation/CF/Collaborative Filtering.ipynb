{
 "cells": [
  {
   "cell_type": "code",
   "execution_count": 1,
   "metadata": {
    "collapsed": true
   },
   "outputs": [],
   "source": [
    "import pandas as pd\n",
    "from scipy.spatial.distance import cosine"
   ]
  },
  {
   "cell_type": "code",
   "execution_count": 3,
   "metadata": {
    "collapsed": false
   },
   "outputs": [],
   "source": [
    "data = pd.read_csv(\"../../datasets/groceries_cf.csv\")"
   ]
  },
  {
   "cell_type": "code",
   "execution_count": 4,
   "metadata": {
    "collapsed": false
   },
   "outputs": [
    {
     "data": {
      "text/html": [
       "<div>\n",
       "<table border=\"1\" class=\"dataframe\">\n",
       "  <thead>\n",
       "    <tr style=\"text-align: right;\">\n",
       "      <th></th>\n",
       "      <th>Person</th>\n",
       "      <th>item</th>\n",
       "    </tr>\n",
       "  </thead>\n",
       "  <tbody>\n",
       "    <tr>\n",
       "      <th>0</th>\n",
       "      <td>1</td>\n",
       "      <td>citrus fruit</td>\n",
       "    </tr>\n",
       "    <tr>\n",
       "      <th>1</th>\n",
       "      <td>1</td>\n",
       "      <td>semi-finished bread</td>\n",
       "    </tr>\n",
       "    <tr>\n",
       "      <th>2</th>\n",
       "      <td>1</td>\n",
       "      <td>margarine</td>\n",
       "    </tr>\n",
       "    <tr>\n",
       "      <th>3</th>\n",
       "      <td>1</td>\n",
       "      <td>ready soups</td>\n",
       "    </tr>\n",
       "    <tr>\n",
       "      <th>4</th>\n",
       "      <td>2</td>\n",
       "      <td>tropical fruit</td>\n",
       "    </tr>\n",
       "  </tbody>\n",
       "</table>\n",
       "</div>"
      ],
      "text/plain": [
       "   Person                 item\n",
       "0       1         citrus fruit\n",
       "1       1  semi-finished bread\n",
       "2       1            margarine\n",
       "3       1          ready soups\n",
       "4       2       tropical fruit"
      ]
     },
     "execution_count": 4,
     "metadata": {},
     "output_type": "execute_result"
    }
   ],
   "source": [
    "data.head()"
   ]
  },
  {
   "cell_type": "markdown",
   "metadata": {},
   "source": [
    "# Item Item Recco"
   ]
  },
  {
   "cell_type": "code",
   "execution_count": 6,
   "metadata": {
    "collapsed": true
   },
   "outputs": [],
   "source": [
    "data[\"Quantity\"] = 1 # since the column is missing "
   ]
  },
  {
   "cell_type": "code",
   "execution_count": 7,
   "metadata": {
    "collapsed": false
   },
   "outputs": [
    {
     "data": {
      "text/html": [
       "<div>\n",
       "<table border=\"1\" class=\"dataframe\">\n",
       "  <thead>\n",
       "    <tr style=\"text-align: right;\">\n",
       "      <th></th>\n",
       "      <th>Person</th>\n",
       "      <th>item</th>\n",
       "      <th>Quantity</th>\n",
       "    </tr>\n",
       "  </thead>\n",
       "  <tbody>\n",
       "    <tr>\n",
       "      <th>0</th>\n",
       "      <td>1</td>\n",
       "      <td>citrus fruit</td>\n",
       "      <td>1</td>\n",
       "    </tr>\n",
       "    <tr>\n",
       "      <th>1</th>\n",
       "      <td>1</td>\n",
       "      <td>semi-finished bread</td>\n",
       "      <td>1</td>\n",
       "    </tr>\n",
       "    <tr>\n",
       "      <th>2</th>\n",
       "      <td>1</td>\n",
       "      <td>margarine</td>\n",
       "      <td>1</td>\n",
       "    </tr>\n",
       "    <tr>\n",
       "      <th>3</th>\n",
       "      <td>1</td>\n",
       "      <td>ready soups</td>\n",
       "      <td>1</td>\n",
       "    </tr>\n",
       "    <tr>\n",
       "      <th>4</th>\n",
       "      <td>2</td>\n",
       "      <td>tropical fruit</td>\n",
       "      <td>1</td>\n",
       "    </tr>\n",
       "  </tbody>\n",
       "</table>\n",
       "</div>"
      ],
      "text/plain": [
       "   Person                 item  Quantity\n",
       "0       1         citrus fruit         1\n",
       "1       1  semi-finished bread         1\n",
       "2       1            margarine         1\n",
       "3       1          ready soups         1\n",
       "4       2       tropical fruit         1"
      ]
     },
     "execution_count": 7,
     "metadata": {},
     "output_type": "execute_result"
    }
   ],
   "source": [
    "data.head()"
   ]
  },
  {
   "cell_type": "code",
   "execution_count": 12,
   "metadata": {
    "collapsed": false
   },
   "outputs": [
    {
     "name": "stdout",
     "output_type": "stream",
     "text": [
      "Total Records -> 43367\n",
      "Total Persons -> 9835\n",
      "Total Items -> 169\n"
     ]
    }
   ],
   "source": [
    "print(\"Total Records -> %s\\nTotal Persons -> %s\\nTotal Items -> %s\"%(len(data), len(data[\"Person\"].unique()), len(data[\"item\"].unique())))"
   ]
  },
  {
   "cell_type": "code",
   "execution_count": 13,
   "metadata": {
    "collapsed": false,
    "scrolled": true
   },
   "outputs": [
    {
     "data": {
      "text/plain": [
       "whole milk                2513\n",
       "other vegetables          1903\n",
       "rolls/buns                1809\n",
       "soda                      1715\n",
       "yogurt                    1372\n",
       "bottled water             1087\n",
       "root vegetables           1072\n",
       "tropical fruit            1032\n",
       "shopping bags              969\n",
       "sausage                    924\n",
       "pastry                     875\n",
       "citrus fruit               814\n",
       "bottled beer               792\n",
       "newspapers                 785\n",
       "canned beer                764\n",
       "pip fruit                  744\n",
       "fruit/vegetable juice      711\n",
       "whipped/sour cream         705\n",
       "brown bread                638\n",
       "domestic eggs              624\n",
       "frankfurter                580\n",
       "margarine                  576\n",
       "coffee                     571\n",
       "pork                       567\n",
       "butter                     545\n",
       "curd                       524\n",
       "beef                       516\n",
       "napkins                    515\n",
       "chocolate                  488\n",
       "frozen vegetables          473\n",
       "                          ... \n",
       "bathroom cleaner            27\n",
       "soap                        26\n",
       "cooking chocolate           25\n",
       "pudding powder              23\n",
       "tidbits                     23\n",
       "cocoa drinks                22\n",
       "organic sausage             22\n",
       "prosecco                    20\n",
       "flower soil/fertilizer      19\n",
       "ready soups                 18\n",
       "specialty vegetables        17\n",
       "organic products            16\n",
       "honey                       15\n",
       "decalcifier                 15\n",
       "cream                       13\n",
       "frozen fruits               12\n",
       "hair spray                  11\n",
       "rubbing alcohol             10\n",
       "liqueur                      9\n",
       "salad dressing               8\n",
       "whisky                       8\n",
       "make up remover              8\n",
       "toilet cleaner               7\n",
       "baby cosmetics               6\n",
       "frozen chicken               6\n",
       "bags                         4\n",
       "kitchen utensil              4\n",
       "preservation products        2\n",
       "sound storage medium         1\n",
       "baby food                    1\n",
       "Name: item, dtype: int64"
      ]
     },
     "execution_count": 13,
     "metadata": {},
     "output_type": "execute_result"
    }
   ],
   "source": [
    "data[\"item\"].value_counts()"
   ]
  },
  {
   "cell_type": "code",
   "execution_count": null,
   "metadata": {
    "collapsed": true
   },
   "outputs": [],
   "source": []
  },
  {
   "cell_type": "code",
   "execution_count": null,
   "metadata": {
    "collapsed": true
   },
   "outputs": [],
   "source": []
  },
  {
   "cell_type": "code",
   "execution_count": null,
   "metadata": {
    "collapsed": true
   },
   "outputs": [],
   "source": []
  },
  {
   "cell_type": "code",
   "execution_count": null,
   "metadata": {
    "collapsed": true
   },
   "outputs": [],
   "source": []
  }
 ],
 "metadata": {
  "kernelspec": {
   "display_name": "Python [conda root]",
   "language": "python",
   "name": "conda-root-py"
  },
  "language_info": {
   "codemirror_mode": {
    "name": "ipython",
    "version": 3
   },
   "file_extension": ".py",
   "mimetype": "text/x-python",
   "name": "python",
   "nbconvert_exporter": "python",
   "pygments_lexer": "ipython3",
   "version": "3.5.2"
  }
 },
 "nbformat": 4,
 "nbformat_minor": 1
}
